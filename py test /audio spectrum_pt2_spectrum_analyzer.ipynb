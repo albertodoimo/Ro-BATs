{
 "cells": [
  {
   "cell_type": "code",
   "execution_count": 28,
   "metadata": {
    "collapsed": true
   },
   "outputs": [],
   "source": [
    "\"\"\"\n",
    "Notebook for streaming data from a microphone in realtime\n",
    "\n",
    "audio is captured using pyaudio\n",
    "then converted from binary data to ints using struct\n",
    "then displayed using matplotlib\n",
    "\n",
    "scipy.fftpack computes the FFT\n",
    "\n",
    "if you don't have pyaudio, then run\n",
    "\n",
    ">>> pip install pyaudio\n",
    "\n",
    "note: with 2048 samples per chunk, I'm getting 20FPS\n",
    "when also running the spectrum, its about 15FPS\n",
    "\"\"\"\n",
    "\n",
    "import pyaudio\n",
    "import os\n",
    "import struct\n",
    "import numpy as np\n",
    "import matplotlib.pyplot as plt\n",
    "from scipy.fftpack import fft\n",
    "import time\n",
    "from tkinter import TclError\n",
    "\n",
    "# to display in separate Tk window\n",
    "%matplotlib tk\n",
    "\n",
    "# constants\n",
    "CHUNK = 1024 * 2             # samples per frame\n",
    "FORMAT = pyaudio.paInt16     # audio format (bytes per sample?)\n",
    "CHANNELS = 1                 # single channel for microphone\n",
    "RATE = 16000                 # samples per second"
   ]
  },
  {
   "cell_type": "code",
   "execution_count": 30,
   "metadata": {
    "scrolled": false
   },
   "outputs": [
    {
     "name": "stdout",
     "output_type": "stream",
     "text": [
      "stream started\n"
     ]
    },
    {
     "ename": "OSError",
     "evalue": "[Errno -9981] Input overflowed",
     "output_type": "error",
     "traceback": [
      "\u001b[0;31m---------------------------------------------------------------------------\u001b[0m",
      "\u001b[0;31mOSError\u001b[0m                                   Traceback (most recent call last)",
      "Cell \u001b[0;32mIn[30], line 51\u001b[0m\n\u001b[1;32m     46\u001b[0m start_time \u001b[38;5;241m=\u001b[39m time\u001b[38;5;241m.\u001b[39mtime()\n\u001b[1;32m     48\u001b[0m \u001b[38;5;28;01mwhile\u001b[39;00m \u001b[38;5;28;01mTrue\u001b[39;00m:\n\u001b[1;32m     49\u001b[0m     \n\u001b[1;32m     50\u001b[0m     \u001b[38;5;66;03m# binary data\u001b[39;00m\n\u001b[0;32m---> 51\u001b[0m     data \u001b[38;5;241m=\u001b[39m \u001b[43mstream\u001b[49m\u001b[38;5;241;43m.\u001b[39;49m\u001b[43mread\u001b[49m\u001b[43m(\u001b[49m\u001b[43mCHUNK\u001b[49m\u001b[43m)\u001b[49m    \n\u001b[1;32m     53\u001b[0m     data_np \u001b[38;5;241m=\u001b[39m np\u001b[38;5;241m.\u001b[39mfrombuffer(data, dtype\u001b[38;5;241m=\u001b[39m\u001b[38;5;124m'\u001b[39m\u001b[38;5;124mh\u001b[39m\u001b[38;5;124m'\u001b[39m)\n\u001b[1;32m     55\u001b[0m     line\u001b[38;5;241m.\u001b[39mset_ydata(data_np)\n",
      "File \u001b[0;32m~/anaconda3/envs/Tesipython/lib/python3.12/site-packages/pyaudio/__init__.py:570\u001b[0m, in \u001b[0;36mPyAudio.Stream.read\u001b[0;34m(self, num_frames, exception_on_overflow)\u001b[0m\n\u001b[1;32m    567\u001b[0m \u001b[38;5;28;01mif\u001b[39;00m \u001b[38;5;129;01mnot\u001b[39;00m \u001b[38;5;28mself\u001b[39m\u001b[38;5;241m.\u001b[39m_is_input:\n\u001b[1;32m    568\u001b[0m     \u001b[38;5;28;01mraise\u001b[39;00m \u001b[38;5;167;01mIOError\u001b[39;00m(\u001b[38;5;124m\"\u001b[39m\u001b[38;5;124mNot input stream\u001b[39m\u001b[38;5;124m\"\u001b[39m,\n\u001b[1;32m    569\u001b[0m                   paCanNotReadFromAnOutputOnlyStream)\n\u001b[0;32m--> 570\u001b[0m \u001b[38;5;28;01mreturn\u001b[39;00m \u001b[43mpa\u001b[49m\u001b[38;5;241;43m.\u001b[39;49m\u001b[43mread_stream\u001b[49m\u001b[43m(\u001b[49m\u001b[38;5;28;43mself\u001b[39;49m\u001b[38;5;241;43m.\u001b[39;49m\u001b[43m_stream\u001b[49m\u001b[43m,\u001b[49m\u001b[43m \u001b[49m\u001b[43mnum_frames\u001b[49m\u001b[43m,\u001b[49m\n\u001b[1;32m    571\u001b[0m \u001b[43m                      \u001b[49m\u001b[43mexception_on_overflow\u001b[49m\u001b[43m)\u001b[49m\n",
      "\u001b[0;31mOSError\u001b[0m: [Errno -9981] Input overflowed"
     ]
    }
   ],
   "source": [
    "# create matplotlib figure and axes\n",
    "fig, (ax1, ax2) = plt.subplots(2, figsize=(15, 7))\n",
    "\n",
    "# pyaudio class instance\n",
    "p = pyaudio.PyAudio()\n",
    "\n",
    "# stream object to get data from microphone\n",
    "stream = p.open(\n",
    "    format=FORMAT,\n",
    "    channels=CHANNELS,\n",
    "    rate=RATE,\n",
    "    input=True,\n",
    "    output=True,\n",
    "    frames_per_buffer=CHUNK\n",
    ")\n",
    "\n",
    "# variable for plotting\n",
    "x = np.arange(0, 2 * CHUNK, 2)       # samples (waveform)\n",
    "xf = np.linspace(0, RATE, CHUNK)     # frequencies (spectrum)\n",
    "\n",
    "# create a line object with random data\n",
    "line, = ax1.plot(x, np.random.rand(CHUNK), '-', lw=2)\n",
    "\n",
    "# create semilogx line for spectrum\n",
    "line_fft, = ax2.semilogx(xf, np.random.rand(CHUNK), '-', lw=2)\n",
    "\n",
    "# Signal range is -32k to 32k\n",
    "# limiting amplitude to +/- 4k\n",
    "AMPLITUDE_LIMIT = 4096\n",
    "\n",
    "# format waveform axes\n",
    "ax1.set_title('AUDIO WAVEFORM')\n",
    "ax1.set_xlabel('samples')\n",
    "ax1.set_ylabel('volume')\n",
    "ax1.set_ylim(-AMPLITUDE_LIMIT, AMPLITUDE_LIMIT)\n",
    "ax1.set_xlim(0, 2 * CHUNK)\n",
    "plt.setp(ax1, xticks=[0, CHUNK, 2 * CHUNK], yticks=[-AMPLITUDE_LIMIT, 0, AMPLITUDE_LIMIT])\n",
    "\n",
    "# format spectrum axes\n",
    "ax2.set_xlim(20, RATE / 2)\n",
    "\n",
    "print('stream started')\n",
    "\n",
    "# for measuring frame rate\n",
    "frame_count = 0\n",
    "start_time = time.time()\n",
    "\n",
    "while True:\n",
    "    \n",
    "    # binary data\n",
    "    data = stream.read(CHUNK)    \n",
    "\n",
    "    data_np = np.frombuffer(data, dtype='h')\n",
    "    \n",
    "    line.set_ydata(data_np)\n",
    "    \n",
    "    # compute FFT and update line\n",
    "    yf = fft(data_np)\n",
    "    line_fft.set_ydata(np.abs(yf[0:CHUNK])  / (512 * CHUNK))\n",
    "    \n",
    "    # update figure canvas\n",
    "    try:\n",
    "        fig.canvas.draw()\n",
    "        fig.canvas.flush_events()\n",
    "        frame_count += 1\n",
    "        \n",
    "    except TclError:\n",
    "        \n",
    "        # calculate average frame rate\n",
    "        frame_rate = frame_count / (time.time() - start_time)\n",
    "        \n",
    "        print('stream stopped')\n",
    "        print('average frame rate = {:.0f} FPS'.format(frame_rate))\n",
    "        break"
   ]
  },
  {
   "cell_type": "code",
   "execution_count": null,
   "metadata": {
    "collapsed": true
   },
   "outputs": [],
   "source": []
  }
 ],
 "metadata": {
  "anaconda-cloud": {},
  "kernelspec": {
   "display_name": "Tesipython",
   "language": "python",
   "name": "python3"
  },
  "language_info": {
   "codemirror_mode": {
    "name": "ipython",
    "version": 3
   },
   "file_extension": ".py",
   "mimetype": "text/x-python",
   "name": "python",
   "nbconvert_exporter": "python",
   "pygments_lexer": "ipython3",
   "version": "3.12.2"
  }
 },
 "nbformat": 4,
 "nbformat_minor": 1
}
