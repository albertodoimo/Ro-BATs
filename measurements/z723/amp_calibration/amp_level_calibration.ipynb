{
 "cells": [
  {
   "cell_type": "markdown",
   "id": "c3cd2501",
   "metadata": {},
   "source": [
    "6/5/2025 19.45\n",
    "\n",
    "Setup for the calibration of the amplifier:\n",
    "\n",
    "1 m distance, 1 m from ground, 2 m from window\n",
    "Gras mic no cover in channel A +20 gain \n",
    "Fireface 802 channel out = 1 channel in 9 (gain 30)\n",
    "Amplifier AVR 445 -20 dB volume\n",
    "Tweeter 1 \n",
    "\n",
    "10 minutes run"
   ]
  },
  {
   "cell_type": "markdown",
   "id": "a7e97798",
   "metadata": {},
   "source": [
    "![Measurement setup front](rme802_mixer.png)"
   ]
  },
  {
   "cell_type": "markdown",
   "id": "97c34307",
   "metadata": {},
   "source": [
    "![Measurement setup front](rme802_matrix.png)\n"
   ]
  }
 ],
 "metadata": {
  "language_info": {
   "name": "python"
  }
 },
 "nbformat": 4,
 "nbformat_minor": 5
}
