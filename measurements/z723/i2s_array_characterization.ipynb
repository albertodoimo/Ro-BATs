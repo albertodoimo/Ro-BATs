{
 "cells": [
  {
   "cell_type": "markdown",
   "metadata": {},
   "source": [
    "Array measurements ROBAT 226.238:\n",
    "- 5 mic array adafruit 5 i2s \n",
    "- 96khz \n",
    "- 2 meters distance (~ far field = 10𝛌; 𝛌max = 343/2 = 171 Hz --> 10𝛌 = 1715 Hz )\n",
    "- measured clockwise (R: 0-90; L: 270-360)\n",
    "- array rotated around the central mic kept a 2m from source\n",
    "\n",
    "HW settings:\n",
    "- AWR 445 vol = -40 db\n",
    "- fireface analog out 1/2 stereo vol = 0db\n",
    "- tweeter #1\n",
    "\n",
    "![Measurement setup](PXL_20250327_161533895.jpg)"
   ]
  },
  {
   "cell_type": "markdown",
   "metadata": {},
   "source": [
    "Out signal: 1-40Khz sweep"
   ]
  },
  {
   "cell_type": "code",
   "execution_count": null,
   "metadata": {},
   "outputs": [
    {
     "name": "stdout",
     "output_type": "stream",
     "text": [
      "Chirped 1\n",
      "Chirped 2\n",
      "Chirped 3\n",
      "Chirped 4\n",
      "Chirped 5\n"
     ]
    }
   ],
   "source": [
    "import sounddevice as sd\n",
    "import numpy as np\n",
    "import scipy.signal as signal\n",
    "import time\n",
    "from matplotlib import pyplot as plt\n",
    "\n",
    "def get_soundcard_outstream(device_list):\n",
    "    for i, each in enumerate(device_list):\n",
    "        dev_name = each['name']\n",
    "        asio_in_name = 'MCHStreamer' in dev_name\n",
    "        if asio_in_name:\n",
    "            return i\n",
    "\n",
    "def pow_two_pad_and_window(vec, show):\n",
    "    window = signal.windows.tukey(len(vec), alpha=0.2)\n",
    "    windowed_vec = vec * window\n",
    "    padded_windowed_vec = np.pad(windowed_vec, (0, 2**int(np.ceil(np.log2(len(windowed_vec)))) - len(windowed_vec)))\n",
    "    if show:\n",
    "        dur = len(padded_windowed_vec) / fs\n",
    "        t = np.linspace(0, dur, len(windowed_vec))\n",
    "        plt.figure()\n",
    "        plt.subplot(2, 1, 1)\n",
    "        plt.plot(t, windowed_vec)\n",
    "        plt.subplot(2, 1, 2)\n",
    "        plt.specgram(windowed_vec, NFFT=64, noverlap=32, Fs=fs)\n",
    "        plt.show()\n",
    "    return padded_windowed_vec/max(padded_windowed_vec)\n",
    "\n",
    "def pow_two(vec):\n",
    "    return np.pad(vec, (0, 2**int(np.ceil(np.log2(len(vec)))) - len(vec)))\n",
    "\n",
    "if __name__ == \"__main__\":\n",
    "\n",
    "    fs = 96e3\n",
    "    dur = 5e-3\n",
    "    hi_freq =  1e3\n",
    "    low_freq = 40e3\n",
    "    n_sweeps = 5\n",
    "    \n",
    "    t_tone = np.linspace(0, dur, int(fs*dur))\n",
    "    chirp = signal.chirp(t_tone, hi_freq, t_tone[-1], low_freq)\n",
    "    sig = pow_two_pad_and_window(chirp, show=False)\n",
    "\n",
    "    silence_dur = 100 # [ms]\n",
    "    silence_samples = int(silence_dur * fs/1000)\n",
    "    silence_vec = np.zeros((silence_samples, ))\n",
    "    full_sig = pow_two(np.concatenate((sig, silence_vec)))\n",
    "    #print('len = ', len(full_sig))\n",
    "    stereo_sig = np.hstack([full_sig.reshape(-1, 1), full_sig.reshape(-1, 1)])\n",
    "\n",
    "    output_sig = np.float32(stereo_sig)\n",
    "\n",
    "    current_frame = 0\n",
    "    def callback(outdata, frames, time, status):\n",
    "        global current_frame\n",
    "        if status:\n",
    "            print(status)\n",
    "        chunksize = min(len(output_sig) - current_frame, frames)\n",
    "        outdata[:chunksize] = output_sig[current_frame:current_frame + chunksize]\n",
    "        if chunksize < frames:\n",
    "            outdata[chunksize:] = 0\n",
    "            raise sd.CallbackAbort()\n",
    "        current_frame += chunksize\n",
    "\n",
    "    device = get_soundcard_outstream(sd.query_devices())\n",
    "    \n",
    "    try:\n",
    "        for i in range(n_sweeps): \n",
    "            stream = sd.OutputStream(samplerate=fs,\n",
    "                        blocksize=0,\n",
    "                        device=device,\n",
    "                        channels=2,\n",
    "                        callback=callback,\n",
    "                        latency='low')\n",
    "                \n",
    "            with stream:\n",
    "                while stream.active:\n",
    "                    pass\n",
    "\n",
    "            current_frame = 0\n",
    "            print('Chirped %d' % (i+1))\n",
    "            time.sleep(1)\n",
    "\n",
    "    except KeyboardInterrupt:\n",
    "        print('Interrupted by user')\n"
   ]
  },
  {
   "cell_type": "code",
   "execution_count": null,
   "metadata": {},
   "outputs": [],
   "source": []
  }
 ],
 "metadata": {
  "kernelspec": {
   "display_name": "Tesipython",
   "language": "python",
   "name": "python3"
  },
  "language_info": {
   "codemirror_mode": {
    "name": "ipython",
    "version": 3
   },
   "file_extension": ".py",
   "mimetype": "text/x-python",
   "name": "python",
   "nbconvert_exporter": "python",
   "pygments_lexer": "ipython3",
   "version": "3.12.4"
  }
 },
 "nbformat": 4,
 "nbformat_minor": 2
}
